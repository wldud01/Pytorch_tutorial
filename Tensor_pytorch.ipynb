{
  "nbformat": 4,
  "nbformat_minor": 0,
  "metadata": {
    "colab": {
      "provenance": [],
      "authorship_tag": "ABX9TyPHzZoTnBJ8tAkFEjDbSQCI",
      "include_colab_link": true
    },
    "kernelspec": {
      "name": "python3",
      "display_name": "Python 3"
    },
    "language_info": {
      "name": "python"
    }
  },
  "cells": [
    {
      "cell_type": "markdown",
      "metadata": {
        "id": "view-in-github",
        "colab_type": "text"
      },
      "source": [
        "<a href=\"https://colab.research.google.com/github/wldud01/Pytorch_tutorial/blob/main/Tensor_pytorch.ipynb\" target=\"_parent\"><img src=\"https://colab.research.google.com/assets/colab-badge.svg\" alt=\"Open In Colab\"/></a>"
      ]
    },
    {
      "cell_type": "markdown",
      "source": [
        "---\n",
        "### What is Pytorch\n",
        "pytorch is a python based scientific computin package serving two broad purposes:\n",
        "- A replacement for Numpy to use the power of GPUs and other accelerators\n",
        "- An automatic differentiation library that is useful to implement neural networks\n",
        "\n",
        "\n",
        "### Tensors\n",
        "- be similar to arrays and matrices.\n",
        "- to encode the inputs and outputs of a model, as well as the model's parameters.\n",
        "- similar to Numpy's ndarrays,\n"
      ],
      "metadata": {
        "id": "m0hqoLgYLlAh"
      }
    },
    {
      "cell_type": "code",
      "execution_count": 1,
      "metadata": {
        "id": "AAmLZrTuLkXh"
      },
      "outputs": [],
      "source": [
        "import torch\n",
        "import numpy as np\n"
      ]
    },
    {
      "cell_type": "code",
      "source": [
        "#@title Tensor Initialization\n",
        "\n",
        "# automatically inferred\n",
        "data =[[1,2],[3,4]]\n",
        "x_data = torch.tensor(data)\n",
        "x_data"
      ],
      "metadata": {
        "colab": {
          "base_uri": "https://localhost:8080/"
        },
        "id": "PbZrquukMYlh",
        "outputId": "1bd9c405-6cc3-4278-d7fd-5df799082613"
      },
      "execution_count": 2,
      "outputs": [
        {
          "output_type": "execute_result",
          "data": {
            "text/plain": [
              "tensor([[1, 2],\n",
              "        [3, 4]])"
            ]
          },
          "metadata": {},
          "execution_count": 2
        }
      ]
    },
    {
      "cell_type": "code",
      "source": [
        "np_array = np.array(data)\n",
        "x_np = torch.from_numpy(np_array)\n",
        "x_np"
      ],
      "metadata": {
        "colab": {
          "base_uri": "https://localhost:8080/"
        },
        "id": "Je1uWLjmMma8",
        "outputId": "a18b9c90-43da-4b54-8ecd-7324aece1a17"
      },
      "execution_count": 3,
      "outputs": [
        {
          "output_type": "execute_result",
          "data": {
            "text/plain": [
              "tensor([[1, 2],\n",
              "        [3, 4]])"
            ]
          },
          "metadata": {},
          "execution_count": 3
        }
      ]
    },
    {
      "cell_type": "code",
      "source": [
        "#@title Initialize one\n",
        "x_ones = torch.ones_like(x_data)\n",
        "print(\"ones Tensor\", x_ones)"
      ],
      "metadata": {
        "colab": {
          "base_uri": "https://localhost:8080/"
        },
        "id": "3IALaWySMvay",
        "outputId": "be84143e-92fb-4f56-bddd-f3388852d5a0"
      },
      "execution_count": 6,
      "outputs": [
        {
          "output_type": "stream",
          "name": "stdout",
          "text": [
            "ones Tensor tensor([[1, 1],\n",
            "        [1, 1]])\n"
          ]
        }
      ]
    },
    {
      "cell_type": "code",
      "source": [
        "#@title Overrides the datatype of x_Data\n",
        "x_rand = torch.rand_like(x_data,dtype=torch.float)\n",
        "print(\"Random tensro\", x_rand)"
      ],
      "metadata": {
        "colab": {
          "base_uri": "https://localhost:8080/"
        },
        "id": "uK7ZW0N1M_kb",
        "outputId": "cd522ba5-ca2a-4ec1-9bc2-a6a801df7fab"
      },
      "execution_count": 7,
      "outputs": [
        {
          "output_type": "stream",
          "name": "stdout",
          "text": [
            "Random tensro tensor([[0.9778, 0.9529],\n",
            "        [0.4919, 0.8710]])\n"
          ]
        }
      ]
    },
    {
      "cell_type": "code",
      "source": [
        "shape = (2,3,)\n",
        "rand_tensor = torch.rand(shape)\n",
        "ones_tensor = torch.ones(shape)\n",
        "zeros_tensor = torch.zeros(shape)\n",
        "print(\"rand tensor\", rand_tensor)\n",
        "print(\"ones tensor\", ones_tensor)\n",
        "print(\"zeros tensor\", zeros_tensor)\n"
      ],
      "metadata": {
        "colab": {
          "base_uri": "https://localhost:8080/"
        },
        "id": "9iklEPVsNUSl",
        "outputId": "cb584827-4602-411c-d28d-39348c7c963d"
      },
      "execution_count": 9,
      "outputs": [
        {
          "output_type": "stream",
          "name": "stdout",
          "text": [
            "rand tensor tensor([[0.0998, 0.4167, 0.7871],\n",
            "        [0.7582, 0.6358, 0.0295]])\n",
            "ones tensor tensor([[1., 1., 1.],\n",
            "        [1., 1., 1.]])\n",
            "zeros tensor tensor([[0., 0., 0.],\n",
            "        [0., 0., 0.]])\n"
          ]
        }
      ]
    },
    {
      "cell_type": "code",
      "source": [
        "#@title Tensor Attributes\n",
        "tensor = torch.rand(3,4)\n",
        "\n",
        "print(\"shape\",tensor.shape)\n",
        "print(\"type\",tensor.dtype)\n",
        "print(\"device\",tensor.device)"
      ],
      "metadata": {
        "colab": {
          "base_uri": "https://localhost:8080/"
        },
        "id": "K6xn79xLN3yg",
        "outputId": "4d624a1e-fca8-4465-9c78-61bc3d240839"
      },
      "execution_count": 10,
      "outputs": [
        {
          "output_type": "stream",
          "name": "stdout",
          "text": [
            "shape torch.Size([3, 4])\n",
            "type torch.float32\n",
            "device cpu\n"
          ]
        }
      ]
    },
    {
      "cell_type": "code",
      "source": [
        "#@title Tensor operations\n",
        "# Each of them can be run on the GPU(at typically higher speeds than on a CPU)\n",
        "if torch.cuda.is_available():\n",
        "  tensor = tensor.to(\"cuda\")\n",
        "  print(\"device tensor is stored on\",tensor.device)\n",
        "else:\n",
        "  print(\"cuda disabled\")"
      ],
      "metadata": {
        "colab": {
          "base_uri": "https://localhost:8080/"
        },
        "id": "yV4rkQWFOLul",
        "outputId": "39ce5857-3700-4e59-e096-f0c6f2f00464"
      },
      "execution_count": 13,
      "outputs": [
        {
          "output_type": "stream",
          "name": "stdout",
          "text": [
            "cuda disabled\n"
          ]
        }
      ]
    },
    {
      "cell_type": "code",
      "source": [],
      "metadata": {
        "id": "iA9tJxDNPI__"
      },
      "execution_count": null,
      "outputs": []
    },
    {
      "cell_type": "code",
      "source": [
        "tensor = torch.ones(4,4)\n",
        "# All row , only index 1 col change 1 to zeros\n",
        "tensor[:,1] = 0\n",
        "print(tensor)"
      ],
      "metadata": {
        "colab": {
          "base_uri": "https://localhost:8080/"
        },
        "id": "FZoYrw9hOwb-",
        "outputId": "e7aa3cbe-fec1-4130-aba3-96f12490e52d"
      },
      "execution_count": 15,
      "outputs": [
        {
          "output_type": "stream",
          "name": "stdout",
          "text": [
            "tensor([[1., 0., 1., 1.],\n",
            "        [1., 0., 1., 1.],\n",
            "        [1., 0., 1., 1.],\n",
            "        [1., 0., 1., 1.]])\n"
          ]
        }
      ]
    },
    {
      "cell_type": "code",
      "source": [
        "tensor[:,1] = 1\n",
        "tensor"
      ],
      "metadata": {
        "colab": {
          "base_uri": "https://localhost:8080/"
        },
        "id": "X3uBZB4aPE1E",
        "outputId": "3ddee5a1-d436-4e25-c3c7-b8d7d668cb73"
      },
      "execution_count": 17,
      "outputs": [
        {
          "output_type": "execute_result",
          "data": {
            "text/plain": [
              "tensor([[1., 1., 1., 1.],\n",
              "        [1., 1., 1., 1.],\n",
              "        [1., 1., 1., 1.],\n",
              "        [1., 1., 1., 1.]])"
            ]
          },
          "metadata": {},
          "execution_count": 17
        }
      ]
    },
    {
      "cell_type": "code",
      "source": [
        "# same as np.concat()\n",
        "t1 = torch.cat([tensor,tensor,tensor],dim=1)\n",
        "print(t1)"
      ],
      "metadata": {
        "colab": {
          "base_uri": "https://localhost:8080/"
        },
        "id": "WTnn43_SPWji",
        "outputId": "3acdae79-0b38-4e2b-e7c4-376df5637b66"
      },
      "execution_count": 22,
      "outputs": [
        {
          "output_type": "stream",
          "name": "stdout",
          "text": [
            "tensor([[1., 1., 1., 1., 1., 1., 1., 1., 1., 1., 1., 1.],\n",
            "        [1., 1., 1., 1., 1., 1., 1., 1., 1., 1., 1., 1.],\n",
            "        [1., 1., 1., 1., 1., 1., 1., 1., 1., 1., 1., 1.],\n",
            "        [1., 1., 1., 1., 1., 1., 1., 1., 1., 1., 1., 1.]])\n"
          ]
        }
      ]
    },
    {
      "cell_type": "code",
      "source": [
        "#@title multiplying tensors\n",
        "\n",
        "# mul is same as *\n",
        "tensor_a = torch.ones(2,3)\n",
        "tensor_b = torch.ones(2,3)\n",
        "tensor_a[:,2] = 3\n",
        "\n",
        "print(\"tensor_matmul\", tensor_a.mul(tensor_b))\n",
        "print(\"tensor_multiplying\", tensor_a*tensor_b)"
      ],
      "metadata": {
        "colab": {
          "base_uri": "https://localhost:8080/"
        },
        "id": "UfUMjyftPija",
        "outputId": "b527f12b-a665-49e0-c37a-aadb16e3650a"
      },
      "execution_count": 25,
      "outputs": [
        {
          "output_type": "stream",
          "name": "stdout",
          "text": [
            "tensor_matmul tensor([[1., 1., 3.],\n",
            "        [1., 1., 3.]])\n",
            "tensor_multiplying tensor([[1., 1., 3.],\n",
            "        [1., 1., 3.]])\n"
          ]
        }
      ]
    },
    {
      "cell_type": "code",
      "source": [
        "#@title matmul tensors\n",
        "print(tensor_a.matmul(tensor_b.T))\n",
        "print(tensor_a @ tensor_b.T)"
      ],
      "metadata": {
        "colab": {
          "base_uri": "https://localhost:8080/"
        },
        "id": "jvXmDY3HQTg5",
        "outputId": "3c4298d6-ee51-47a5-fb8a-ece883111a9d"
      },
      "execution_count": 26,
      "outputs": [
        {
          "output_type": "stream",
          "name": "stdout",
          "text": [
            "tensor([[5., 5.],\n",
            "        [5., 5.]])\n",
            "tensor([[5., 5.],\n",
            "        [5., 5.]])\n"
          ]
        }
      ]
    },
    {
      "cell_type": "code",
      "source": [
        "#@title _ suffix are in place operations\n",
        "print(tensor_a)\n",
        "tensor_a.add_(10)\n",
        "print(tensor_a)"
      ],
      "metadata": {
        "colab": {
          "base_uri": "https://localhost:8080/"
        },
        "id": "mVJKognGQ0S0",
        "outputId": "13e7d250-889a-4534-b164-892dc3035320"
      },
      "execution_count": 29,
      "outputs": [
        {
          "output_type": "stream",
          "name": "stdout",
          "text": [
            "tensor([[1., 1., 3.],\n",
            "        [1., 1., 3.]])\n",
            "tensor([[11., 11., 13.],\n",
            "        [11., 11., 13.]])\n"
          ]
        }
      ]
    },
    {
      "cell_type": "code",
      "source": [
        "# if we want to share tensor and array\n",
        "# tenors on the CPU and numpy arrays can share their underlying memory locations\n",
        "# Changing one will change the other\n",
        "\n",
        "t = torch.ones(5)\n",
        "print(t)\n",
        "n = t.numpy()\n",
        "print(n)"
      ],
      "metadata": {
        "colab": {
          "base_uri": "https://localhost:8080/"
        },
        "id": "TMhtZRooRDBf",
        "outputId": "2b731b5e-a825-401a-910d-fbcd7edfc7af"
      },
      "execution_count": 30,
      "outputs": [
        {
          "output_type": "stream",
          "name": "stdout",
          "text": [
            "tensor([1., 1., 1., 1., 1.])\n",
            "[1. 1. 1. 1. 1.]\n"
          ]
        }
      ]
    },
    {
      "cell_type": "code",
      "source": [
        "t.add_(1)\n",
        "print(t)\n",
        "print(n)"
      ],
      "metadata": {
        "colab": {
          "base_uri": "https://localhost:8080/"
        },
        "id": "b9YrHmoeRp3D",
        "outputId": "b8adb462-48c1-4539-9761-cc42ba19ae1a"
      },
      "execution_count": 31,
      "outputs": [
        {
          "output_type": "stream",
          "name": "stdout",
          "text": [
            "tensor([2., 2., 2., 2., 2.])\n",
            "[2. 2. 2. 2. 2.]\n"
          ]
        }
      ]
    },
    {
      "cell_type": "code",
      "source": [
        "n = np.ones(5)\n",
        "t = torch.from_numpy(n)\n",
        "print(t)"
      ],
      "metadata": {
        "colab": {
          "base_uri": "https://localhost:8080/"
        },
        "id": "RTYnX92nSB2l",
        "outputId": "ff0cd056-2a5c-42f5-9ed9-1a09564fecd0"
      },
      "execution_count": 32,
      "outputs": [
        {
          "output_type": "stream",
          "name": "stdout",
          "text": [
            "tensor([1., 1., 1., 1., 1.], dtype=torch.float64)\n"
          ]
        }
      ]
    },
    {
      "cell_type": "code",
      "source": [
        "np.add(n,2,out=n)\n",
        "print(n)\n",
        "print(t)"
      ],
      "metadata": {
        "colab": {
          "base_uri": "https://localhost:8080/"
        },
        "id": "qjmwQaKzSPyq",
        "outputId": "70ffe1bc-68d3-4bda-8afc-c5f7c3e8cc90"
      },
      "execution_count": 34,
      "outputs": [
        {
          "output_type": "stream",
          "name": "stdout",
          "text": [
            "[4. 4. 4. 4. 4.]\n",
            "tensor([4., 4., 4., 4., 4.], dtype=torch.float64)\n"
          ]
        }
      ]
    },
    {
      "cell_type": "code",
      "source": [],
      "metadata": {
        "id": "s9pUV_sgSWu4"
      },
      "execution_count": null,
      "outputs": []
    }
  ]
}